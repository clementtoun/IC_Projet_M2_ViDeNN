{
 "cells": [
  {
   "cell_type": "code",
   "execution_count": 1,
   "metadata": {},
   "outputs": [],
   "source": [
    "import numpy as np\n",
    "from PIL import Image\n",
    "from os import path\n",
    "from glob import glob"
   ]
  },
  {
   "cell_type": "code",
   "execution_count": null,
   "metadata": {},
   "outputs": [],
   "source": [
    "dataset_folder = './shepp_logan256'\n",
    "\n",
    "images_folder = './denoise_only_train'\n",
    "\n",
    "final_path = path.join(dataset_folder, images_folder)\n",
    "\n",
    "imgs_paths = glob(path.join(final_path, '*.png'))\n",
    "\n",
    "for path in imgs_paths:\n",
    "\n",
    "    img = np.asarray(Image.open(path))\n",
    "\n",
    "    if len(img.shape) > 2:\n",
    "        img = np.mean(img, -1)\n",
    "\n",
    "    img = Image.fromarray((img).astype(np.uint8))\n",
    "    img.save(path)"
   ]
  }
 ],
 "metadata": {
  "kernelspec": {
   "display_name": "Python 3",
   "language": "python",
   "name": "python3"
  },
  "language_info": {
   "codemirror_mode": {
    "name": "ipython",
    "version": 3
   },
   "file_extension": ".py",
   "mimetype": "text/x-python",
   "name": "python",
   "nbconvert_exporter": "python",
   "pygments_lexer": "ipython3",
   "version": "3.10.6"
  },
  "orig_nbformat": 4
 },
 "nbformat": 4,
 "nbformat_minor": 2
}
