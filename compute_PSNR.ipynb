{
 "cells": [
  {
   "cell_type": "code",
   "execution_count": 31,
   "metadata": {},
   "outputs": [],
   "source": [
    "import numpy as np\n",
    "from PIL import Image\n",
    "from os import path\n",
    "from glob import glob"
   ]
  },
  {
   "cell_type": "code",
   "execution_count": 46,
   "metadata": {},
   "outputs": [],
   "source": [
    "def PSNR(im1, im2):\n",
    "    mse = ((im1.astype(float) - im2.astype(float)) ** 2).mean()\n",
    "    if mse == 0:\n",
    "        return 0\n",
    "    psnr = 10 * np.log10(255 ** 2 / mse)\n",
    "    return psnr"
   ]
  },
  {
   "cell_type": "code",
   "execution_count": 66,
   "metadata": {},
   "outputs": [],
   "source": [
    "dataset_folder = './shepp_logan256'\n",
    "\n",
    "ref_folder = 'original'\n",
    "\n",
    "denoise_folder = 'denoise_only_train'"
   ]
  },
  {
   "cell_type": "code",
   "execution_count": 68,
   "metadata": {},
   "outputs": [
    {
     "name": "stdout",
     "output_type": "stream",
     "text": [
      "39.41856950742862\n"
     ]
    }
   ],
   "source": [
    "ref_path = path.join(dataset_folder, ref_folder)\n",
    "denoise_path = path.join(dataset_folder, denoise_folder)\n",
    "\n",
    "imgs_ref_path = glob(path.join(ref_path, '*.png'))\n",
    "imgs_denoise_path = glob(path.join(denoise_path, '*.png'))\n",
    "\n",
    "PSNR_mean = 0\n",
    "last_PSNR = 0\n",
    "\n",
    "for i in range(0, len(imgs_ref_path)):\n",
    "\n",
    "    ref = np.asarray(Image.open(imgs_ref_path[i]))\n",
    "    denoise = np.asarray(Image.open(imgs_denoise_path[i]))\n",
    "\n",
    "    curr_PSNR = PSNR(ref, denoise)\n",
    "\n",
    "    PSNR_mean = PSNR_mean + (curr_PSNR - last_PSNR) / (i+1)\n",
    "\n",
    "    last_PSNR = curr_PSNR\n",
    "\n",
    "print(PSNR_mean)"
   ]
  }
 ],
 "metadata": {
  "kernelspec": {
   "display_name": "defs-vect",
   "language": "python",
   "name": "defs-vect"
  },
  "language_info": {
   "codemirror_mode": {
    "name": "ipython",
    "version": 3
   },
   "file_extension": ".py",
   "mimetype": "text/x-python",
   "name": "python",
   "nbconvert_exporter": "python",
   "pygments_lexer": "ipython3",
   "version": "3.9.0"
  },
  "orig_nbformat": 4
 },
 "nbformat": 4,
 "nbformat_minor": 2
}
